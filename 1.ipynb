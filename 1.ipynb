{
 "cells": [
  {
   "cell_type": "code",
   "execution_count": null,
   "id": "32dfc141-fd82-46bc-bb6b-b2c9ba5e6b34",
   "metadata": {},
   "outputs": [],
   "source": [
    "#read this dataset"
   ]
  },
  {
   "cell_type": "code",
   "execution_count": null,
   "id": "b9872af4-d4b7-4530-bae0-78b63d8cc809",
   "metadata": {},
   "outputs": [],
   "source": [
    "#write a code reverse a string.\n",
    "\n",
    "def reverse_string(s):\n",
    "    return s[::-1]\n",
    "\n",
    "# Example usage\n",
    "string = \"hello\"\n",
    "reversed_string = reverse_string(string)\n",
    "print(reversed_string)  # Output: \"olleh\"\n"
   ]
  },
  {
   "cell_type": "code",
   "execution_count": null,
   "id": "46b252ee-f4cb-4fab-8dad-01f792ca853c",
   "metadata": {},
   "outputs": [],
   "source": [
    "#Write a code to count the number of vowels in a string\n",
    "\n",
    "def count_vowels(s):\n",
    "    vowels = 'aeiouAEIOU'\n",
    "    count = sum(1 for char in s if char in vowels)\n",
    "    return count\n",
    "\n",
    "# Example usage\n",
    "string = \"Hello, World!\"\n",
    "vowel_count = count_vowels(string)\n",
    "print(vowel_count)  # Output: 3\n"
   ]
  }
 ],
 "metadata": {
  "kernelspec": {
   "display_name": "Python 3 (ipykernel)",
   "language": "python",
   "name": "python3"
  },
  "language_info": {
   "codemirror_mode": {
    "name": "ipython",
    "version": 3
   },
   "file_extension": ".py",
   "mimetype": "text/x-python",
   "name": "python",
   "nbconvert_exporter": "python",
   "pygments_lexer": "ipython3",
   "version": "3.10.8"
  }
 },
 "nbformat": 4,
 "nbformat_minor": 5
}
